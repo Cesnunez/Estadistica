{
 "cells": [
  {
   "cell_type": "markdown",
   "id": "9bc2a621",
   "metadata": {},
   "source": [
    "### Análisis de normalidad"
   ]
  },
  {
   "cell_type": "markdown",
   "id": "1fe0e907",
   "metadata": {},
   "source": [
    "Los análisis de normalidad, también llamados contrastes de normalidad, tienen como objetivo analizar si los datos disponibles podrían proceder de una población con una distribución normal. Existen tres estrategias principales abordar este análisis:\n",
    "\n",
    "* Representaciones gráficas\n",
    "\n",
    "* Métodos analíticos\n",
    "\n",
    "* Test de hipótesis.\n",
    "\n",
    "Uno de los ejemplos más empleados cuando se habla de variables aleatorias que siguen una distribución normal es la altura de las personas. Esta afirmación no es arbitraria, los procesos cuyo resultado es la suma de muchas pequeñas interacciones suelen converger en una distribución normal. La altura de una persona, es el resultado de miles de factores que se suman unos a otros condicionando el crecimiento.\n",
    "\n",
    "A lo largo del siguiente documento se muestra como utilizar diferentes estrategias para determinar si la altura de un conjunto de personas sigue una distribución normal."
   ]
  },
  {
   "cell_type": "code",
   "execution_count": 1,
   "id": "5ea18783",
   "metadata": {},
   "outputs": [],
   "source": [
    "\n",
    "#  Tratamiento de datos \n",
    "\n",
    "import pandas as pd\n",
    "import numpy as np\n",
    "\n",
    "# Graficos\n",
    "\n",
    "import matplotlib.pyplot as plt\n",
    "from matplotlib import style\n",
    "import seaborn as sns\n",
    "\n",
    "# Preprocesaod y análisis\n",
    "\n",
    "import statsmodels.api as sm\n",
    "from scipy import stats\n",
    "\n",
    "# configuración matplotlib \n",
    "\n",
    "plt.style.use('ggplot')\n",
    "\n",
    "# configuración de warnings \n",
    "\n",
    "import warnings \n",
    "warnings.filterwarnings('ignore')\n"
   ]
  },
  {
   "cell_type": "code",
   "execution_count": 2,
   "id": "a55cbab6",
   "metadata": {},
   "outputs": [
    {
     "name": "stdout",
     "output_type": "stream",
     "text": [
      "<class 'pandas.core.frame.DataFrame'>\n",
      "RangeIndex: 544 entries, 0 to 543\n",
      "Data columns (total 4 columns):\n",
      " #   Column  Non-Null Count  Dtype  \n",
      "---  ------  --------------  -----  \n",
      " 0   height  544 non-null    float64\n",
      " 1   weight  544 non-null    float64\n",
      " 2   age     544 non-null    float64\n",
      " 3   male    544 non-null    int64  \n",
      "dtypes: float64(3), int64(1)\n",
      "memory usage: 17.1 KB\n",
      "None\n"
     ]
    },
    {
     "data": {
      "text/html": [
       "<div>\n",
       "<style scoped>\n",
       "    .dataframe tbody tr th:only-of-type {\n",
       "        vertical-align: middle;\n",
       "    }\n",
       "\n",
       "    .dataframe tbody tr th {\n",
       "        vertical-align: top;\n",
       "    }\n",
       "\n",
       "    .dataframe thead th {\n",
       "        text-align: right;\n",
       "    }\n",
       "</style>\n",
       "<table border=\"1\" class=\"dataframe\">\n",
       "  <thead>\n",
       "    <tr style=\"text-align: right;\">\n",
       "      <th></th>\n",
       "      <th>height</th>\n",
       "      <th>weight</th>\n",
       "      <th>age</th>\n",
       "      <th>male</th>\n",
       "    </tr>\n",
       "  </thead>\n",
       "  <tbody>\n",
       "    <tr>\n",
       "      <th>0</th>\n",
       "      <td>151.765</td>\n",
       "      <td>47.825606</td>\n",
       "      <td>63.0</td>\n",
       "      <td>1</td>\n",
       "    </tr>\n",
       "    <tr>\n",
       "      <th>1</th>\n",
       "      <td>139.700</td>\n",
       "      <td>36.485807</td>\n",
       "      <td>63.0</td>\n",
       "      <td>0</td>\n",
       "    </tr>\n",
       "    <tr>\n",
       "      <th>2</th>\n",
       "      <td>136.525</td>\n",
       "      <td>31.864838</td>\n",
       "      <td>65.0</td>\n",
       "      <td>0</td>\n",
       "    </tr>\n",
       "    <tr>\n",
       "      <th>3</th>\n",
       "      <td>156.845</td>\n",
       "      <td>53.041914</td>\n",
       "      <td>41.0</td>\n",
       "      <td>1</td>\n",
       "    </tr>\n",
       "  </tbody>\n",
       "</table>\n",
       "</div>"
      ],
      "text/plain": [
       "    height     weight   age  male\n",
       "0  151.765  47.825606  63.0     1\n",
       "1  139.700  36.485807  63.0     0\n",
       "2  136.525  31.864838  65.0     0\n",
       "3  156.845  53.041914  41.0     1"
      ]
     },
     "execution_count": 2,
     "metadata": {},
     "output_type": "execute_result"
    }
   ],
   "source": [
    "# Datos - libro Statistical Rethinking by Richard McElreath - \n",
    "# sobre el pueblo !Kung San, que viven en el desierto de Kalahari entre Botsuana, Namibia y Angola.\n",
    "\n",
    "\n",
    "url = ('https://raw.githubusercontent.com/JoaquinAmatRodrigo/' +\n",
    "       'Estadistica-machine-learning-python/master/data/Howell1.csv')\n",
    "datos = pd.read_csv(url)\n",
    "print(datos.info())\n",
    "datos.head(4)"
   ]
  },
  {
   "cell_type": "code",
   "execution_count": 3,
   "id": "3bbf18b8",
   "metadata": {},
   "outputs": [
    {
     "data": {
      "text/html": [
       "<div>\n",
       "<style scoped>\n",
       "    .dataframe tbody tr th:only-of-type {\n",
       "        vertical-align: middle;\n",
       "    }\n",
       "\n",
       "    .dataframe tbody tr th {\n",
       "        vertical-align: top;\n",
       "    }\n",
       "\n",
       "    .dataframe thead th {\n",
       "        text-align: right;\n",
       "    }\n",
       "</style>\n",
       "<table border=\"1\" class=\"dataframe\">\n",
       "  <thead>\n",
       "    <tr style=\"text-align: right;\">\n",
       "      <th></th>\n",
       "      <th>height</th>\n",
       "      <th>weight</th>\n",
       "      <th>age</th>\n",
       "      <th>male</th>\n",
       "    </tr>\n",
       "  </thead>\n",
       "  <tbody>\n",
       "    <tr>\n",
       "      <th>count</th>\n",
       "      <td>544.000000</td>\n",
       "      <td>544.000000</td>\n",
       "      <td>544.000000</td>\n",
       "      <td>544.000000</td>\n",
       "    </tr>\n",
       "    <tr>\n",
       "      <th>mean</th>\n",
       "      <td>138.263596</td>\n",
       "      <td>35.610618</td>\n",
       "      <td>29.344393</td>\n",
       "      <td>0.472426</td>\n",
       "    </tr>\n",
       "    <tr>\n",
       "      <th>std</th>\n",
       "      <td>27.602448</td>\n",
       "      <td>14.719178</td>\n",
       "      <td>20.746888</td>\n",
       "      <td>0.499699</td>\n",
       "    </tr>\n",
       "    <tr>\n",
       "      <th>min</th>\n",
       "      <td>53.975000</td>\n",
       "      <td>4.252425</td>\n",
       "      <td>0.000000</td>\n",
       "      <td>0.000000</td>\n",
       "    </tr>\n",
       "    <tr>\n",
       "      <th>25%</th>\n",
       "      <td>125.095000</td>\n",
       "      <td>22.007717</td>\n",
       "      <td>12.000000</td>\n",
       "      <td>0.000000</td>\n",
       "    </tr>\n",
       "    <tr>\n",
       "      <th>50%</th>\n",
       "      <td>148.590000</td>\n",
       "      <td>40.057844</td>\n",
       "      <td>27.000000</td>\n",
       "      <td>0.000000</td>\n",
       "    </tr>\n",
       "    <tr>\n",
       "      <th>75%</th>\n",
       "      <td>157.480000</td>\n",
       "      <td>47.209005</td>\n",
       "      <td>43.000000</td>\n",
       "      <td>1.000000</td>\n",
       "    </tr>\n",
       "    <tr>\n",
       "      <th>max</th>\n",
       "      <td>179.070000</td>\n",
       "      <td>62.992589</td>\n",
       "      <td>88.000000</td>\n",
       "      <td>1.000000</td>\n",
       "    </tr>\n",
       "  </tbody>\n",
       "</table>\n",
       "</div>"
      ],
      "text/plain": [
       "           height      weight         age        male\n",
       "count  544.000000  544.000000  544.000000  544.000000\n",
       "mean   138.263596   35.610618   29.344393    0.472426\n",
       "std     27.602448   14.719178   20.746888    0.499699\n",
       "min     53.975000    4.252425    0.000000    0.000000\n",
       "25%    125.095000   22.007717   12.000000    0.000000\n",
       "50%    148.590000   40.057844   27.000000    0.000000\n",
       "75%    157.480000   47.209005   43.000000    1.000000\n",
       "max    179.070000   62.992589   88.000000    1.000000"
      ]
     },
     "execution_count": 3,
     "metadata": {},
     "output_type": "execute_result"
    }
   ],
   "source": [
    "datos.describe()"
   ]
  },
  {
   "cell_type": "code",
   "execution_count": 4,
   "id": "8d2059e5",
   "metadata": {},
   "outputs": [
    {
     "name": "stdout",
     "output_type": "stream",
     "text": [
      "    height     weight   age  male\n",
      "1  139.700  36.485807  63.0     0\n",
      "2  136.525  31.864838  65.0     0\n",
      "4  145.415  41.276872  51.0     0\n",
      "6  149.225  38.243476  32.0     0\n",
      "8  147.955  34.869885  19.0     0\n",
      "=======================================\n",
      "1    36.485807\n",
      "2    31.864838\n",
      "4    41.276872\n",
      "6    38.243476\n",
      "8    34.869885\n",
      "Name: weight, dtype: float64\n"
     ]
    }
   ],
   "source": [
    "## De todos los datos disponibles se seleccionan únicamente mujeres mayores de 15 años\n",
    "\n",
    "mujeres = datos[(datos.age >15) & (datos.male == 0)]\n",
    "print(mujeres.head())\n",
    "\n",
    "print('=======================================')\n",
    "\n",
    "peso_mujeres = mujeres['weight']\n",
    "print(peso_mujeres.head())"
   ]
  },
  {
   "cell_type": "code",
   "execution_count": 5,
   "id": "099e2b79",
   "metadata": {},
   "outputs": [
    {
     "name": "stdout",
     "output_type": "stream",
     "text": [
      "El peso minimo y maximo de las mujeres mayores de 15 años es: 22.6796 y 56.755699 \n"
     ]
    }
   ],
   "source": [
    "peso_mujeres.describe()\n",
    "\n",
    "print(f'El peso minimo y maximo de las mujeres mayores de 15 años es: {min(peso_mujeres)} y {max(peso_mujeres)} ')"
   ]
  },
  {
   "cell_type": "markdown",
   "id": "0400b51b",
   "metadata": {},
   "source": [
    "## Métodos gráficos \n",
    "\n",
    "Uno de los métodos gráficos más empleados para el análisis de normalidad consiste en representar los datos mediante un histograma y superponer la curva de una distribución normal con la misma media y desviación estándar que los datos disponibles."
   ]
  },
  {
   "cell_type": "code",
   "execution_count": 6,
   "id": "ece51b23",
   "metadata": {},
   "outputs": [
    {
     "data": {
      "image/png": "[encoded data removed]",
      "text/plain": [
       "<Figure size 1080x360 with 1 Axes>"
      ]
     },
     "metadata": {},
     "output_type": "display_data"
    }
   ],
   "source": [
    "# Histograma + curva normal teórica\n",
    "\n",
    "# Valores de la media (mu) y desviación típica (sigma) de los datos\n",
    "mu, sigma = stats.norm.fit(peso_mujeres)\n",
    "\n",
    "# Valores teóricos de la normal en el rango observado\n",
    "x_hat = np.linspace(min(peso_mujeres), max(peso_mujeres), num= 100)\n",
    "y_hat = stats.norm.pdf(x_hat, mu, sigma)\n",
    "\n",
    "# gráfico\n",
    "\n",
    "fig, ax = plt.subplots(figsize = (15,5))\n",
    "ax.plot(x_hat, y_hat, linewidth=2, label='normal')\n",
    "ax.hist(x=peso_mujeres, density=True, bins=30, color=\"#3182bd\", alpha=0.8)\n",
    "ax.plot(peso_mujeres, np.full_like(peso_mujeres, -0.01), '|k', markeredgewidth=1)\n",
    "ax.set_title('Distribución peso mujeres mayores de 15 años')\n",
    "ax.set_xlabel('peso')\n",
    "ax.set_ylabel('Densidad de probabilidad')\n",
    "ax.legend();\n"
   ]
  },
  {
   "cell_type": "markdown",
   "id": "2930d4c6",
   "metadata": {},
   "source": [
    "\n",
    "* linspace: La función numpy.linspace genera un array NumPy formado por n números equiespaciados entre dos dados. \n",
    "        Su sintaxis es:  numpy.linspace(valor-inicial, valor-final, número de valores)\n",
    "        \n",
    "        "
   ]
  }
 ],
 "metadata": {
  "kernelspec": {
   "display_name": "Python 3 (ipykernel)",
   "language": "python",
   "name": "python3"
  },
  "language_info": {
   "codemirror_mode": {
    "name": "ipython",
    "version": 3
   },
   "file_extension": ".py",
   "mimetype": "text/x-python",
   "name": "python",
   "nbconvert_exporter": "python",
   "pygments_lexer": "ipython3",
   "version": "3.9.7"
  }
 },
 "nbformat": 4,
 "nbformat_minor": 5
}
